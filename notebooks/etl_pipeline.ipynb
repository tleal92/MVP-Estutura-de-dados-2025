{
 "cells": [
  {
   "cell_type": "markdown",
   "id": "782fd18b",
   "metadata": {},
   "source": [
    "# Pipeline de ETL - Projeto MVP: Bank Marketing"
   ]
  },
  {
   "cell_type": "code",
   "execution_count": null,
   "id": "ce7009a6",
   "metadata": {},
   "outputs": [],
   "source": [
    "# Importando bibliotecas\n",
    "import pandas as pd\n",
    "import numpy as np\n"
   ]
  },
  {
   "cell_type": "code",
   "execution_count": null,
   "id": "771ecea1",
   "metadata": {},
   "outputs": [],
   "source": [
    "# Carregando os dados diretamente do arquivo CSV\n",
    "file_url = \"https://archive.ics.uci.edu/ml/machine-learning-databases/00222/bank.zip\"\n",
    "df = pd.read_csv(file_url, sep=\";\")\n",
    "df.head()\n"
   ]
  },
  {
   "cell_type": "code",
   "execution_count": null,
   "id": "315248b7",
   "metadata": {},
   "outputs": [],
   "source": [
    "# Verificando informações iniciais sobre os dados\n",
    "df.info()\n",
    "df.isnull().sum()\n"
   ]
  },
  {
   "cell_type": "code",
   "execution_count": null,
   "id": "4f46da70",
   "metadata": {},
   "outputs": [],
   "source": [
    "# Padronizando nomes das colunas\n",
    "df.columns = [col.strip().lower().replace(\" \", \"_\") for col in df.columns]\n"
   ]
  },
  {
   "cell_type": "code",
   "execution_count": null,
   "id": "31bb4f04",
   "metadata": {},
   "outputs": [],
   "source": [
    "# Criando coluna binária para a variável alvo 'y'\n",
    "df['y_bin'] = df['y'].map({'yes': 1, 'no': 0})\n"
   ]
  },
  {
   "cell_type": "code",
   "execution_count": null,
   "id": "32d1d701",
   "metadata": {},
   "outputs": [],
   "source": [
    "# Verificando valores únicos e removendo inconsistências em colunas categóricas\n",
    "for col in df.select_dtypes(include='object'):\n",
    "    print(f\"{col}: {df[col].unique()}\")\n"
   ]
  },
  {
   "cell_type": "code",
   "execution_count": null,
   "id": "aa8adc71",
   "metadata": {},
   "outputs": [],
   "source": [
    "# Validação de dados: removendo registros inválidos se necessário (exemplo fictício)\n",
    "df = df[df['age'] > 0]\n"
   ]
  },
  {
   "cell_type": "code",
   "execution_count": null,
   "id": "12a2fae3",
   "metadata": {},
   "outputs": [],
   "source": [
    "# Salvando o dataframe tratado em formato parquet\n",
    "df.to_parquet(\"bank_data_tratado.parquet\", index=False)\n"
   ]
  },
  {
   "cell_type": "code",
   "execution_count": null,
   "id": "a51a21e7",
   "metadata": {},
   "outputs": [],
   "source": [
    "# Visualizando o schema final\n",
    "df.dtypes\n"
   ]
  }
 ],
 "metadata": {},
 "nbformat": 4,
 "nbformat_minor": 5
}