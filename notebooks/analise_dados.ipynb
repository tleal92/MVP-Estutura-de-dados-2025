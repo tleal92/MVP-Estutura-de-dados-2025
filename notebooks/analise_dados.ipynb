{
 "cells": [
  {
   "cell_type": "markdown",
   "id": "cf2ad98d",
   "metadata": {},
   "source": [
    "# Análise de Dados - Projeto MVP: Bank Marketing"
   ]
  },
  {
   "cell_type": "code",
   "execution_count": null,
   "id": "1d78e8c7",
   "metadata": {},
   "outputs": [],
   "source": [
    "# Importando bibliotecas\n",
    "import pandas as pd\n",
    "import matplotlib.pyplot as plt\n",
    "import seaborn as sns\n"
   ]
  },
  {
   "cell_type": "code",
   "execution_count": null,
   "id": "058f8533",
   "metadata": {},
   "outputs": [],
   "source": [
    "# Carregando os dados tratados\n",
    "df = pd.read_parquet(\"https://raw.githubusercontent.com/tleal92/MVP-Estutura-de-dados-2025/main/data/bank_data_tratado.parquet\")\n"
   ]
  },
  {
   "cell_type": "code",
   "execution_count": null,
   "id": "617bc7a4",
   "metadata": {},
   "outputs": [],
   "source": [
    "# Distribuição da variável alvo\n",
    "sns.countplot(data=df, x='y')\n",
    "plt.title('Distribuição da variável alvo (y)')\n",
    "plt.xlabel('Conversão')\n",
    "plt.ylabel('Contagem')\n",
    "plt.show()\n"
   ]
  },
  {
   "cell_type": "code",
   "execution_count": null,
   "id": "329891a9",
   "metadata": {},
   "outputs": [],
   "source": [
    "# Taxa de conversão por tipo de contato\n",
    "contact_success = df.groupby(\"contact\")[\"y_bin\"].mean().sort_values(ascending=False)\n",
    "contact_success.plot(kind='bar', title='Taxa de sucesso por tipo de contato', color='skyblue')\n",
    "plt.ylabel(\"Taxa de conversão\")\n",
    "plt.show()\n"
   ]
  },
  {
   "cell_type": "code",
   "execution_count": null,
   "id": "84b28400",
   "metadata": {},
   "outputs": [],
   "source": [
    "# Idade por conversão\n",
    "sns.boxplot(x=\"y\", y=\"age\", data=df)\n",
    "plt.title(\"Distribuição de idade por conversão\")\n",
    "plt.show()\n"
   ]
  },
  {
   "cell_type": "code",
   "execution_count": null,
   "id": "b6b5f5ba",
   "metadata": {},
   "outputs": [],
   "source": [
    "# Correlação entre variáveis numéricas\n",
    "plt.figure(figsize=(10, 6))\n",
    "sns.heatmap(df.corr(numeric_only=True), annot=True, cmap=\"coolwarm\", fmt=\".2f\")\n",
    "plt.title(\"Matriz de Correlação\")\n",
    "plt.show()\n"
   ]
  },
  {
   "cell_type": "code",
   "execution_count": null,
   "id": "cb494826",
   "metadata": {},
   "outputs": [],
   "source": [
    "# Conversão por nível de educação\n",
    "edu = df.groupby(\"education\")[\"y_bin\"].mean().sort_values(ascending=False)\n",
    "edu.plot(kind='bar', title='Taxa de conversão por nível de educação', color='green')\n",
    "plt.ylabel(\"Taxa de conversão\")\n",
    "plt.xticks(rotation=45)\n",
    "plt.show()\n"
   ]
  }
 ],
 "metadata": {},
 "nbformat": 4,
 "nbformat_minor": 5
}